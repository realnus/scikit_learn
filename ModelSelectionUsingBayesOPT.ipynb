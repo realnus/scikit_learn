{
  "nbformat": 4,
  "nbformat_minor": 0,
  "metadata": {
    "colab": {
      "provenance": [],
      "include_colab_link": true
    },
    "kernelspec": {
      "name": "python3",
      "display_name": "Python 3"
    },
    "language_info": {
      "name": "python"
    }
  },
  "cells": [
    {
      "cell_type": "markdown",
      "metadata": {
        "id": "view-in-github",
        "colab_type": "text"
      },
      "source": [
        "<a href=\"https://colab.research.google.com/github/realnus/scikit_learn/blob/main/ModelSelectionUsingBayesOPT.ipynb\" target=\"_parent\"><img src=\"https://colab.research.google.com/assets/colab-badge.svg\" alt=\"Open In Colab\"/></a>"
      ]
    },
    {
      "cell_type": "code",
      "metadata": {
        "colab": {
          "base_uri": "https://localhost:8080/"
        },
        "id": "JkVvn1Teg22p",
        "outputId": "98cd5b38-503f-4d06-8116-5a04863f9297"
      },
      "source": [
        "!pip install tpot"
      ],
      "execution_count": null,
      "outputs": [
        {
          "output_type": "stream",
          "name": "stdout",
          "text": [
            "Collecting tpot\n",
            "  Downloading TPOT-0.11.7-py3-none-any.whl (87 kB)\n",
            "\u001b[?25l\r\u001b[K     |███▊                            | 10 kB 23.4 MB/s eta 0:00:01\r\u001b[K     |███████▌                        | 20 kB 29.7 MB/s eta 0:00:01\r\u001b[K     |███████████▎                    | 30 kB 34.4 MB/s eta 0:00:01\r\u001b[K     |███████████████                 | 40 kB 37.4 MB/s eta 0:00:01\r\u001b[K     |██████████████████▉             | 51 kB 38.2 MB/s eta 0:00:01\r\u001b[K     |██████████████████████▋         | 61 kB 40.2 MB/s eta 0:00:01\r\u001b[K     |██████████████████████████▎     | 71 kB 34.5 MB/s eta 0:00:01\r\u001b[K     |██████████████████████████████  | 81 kB 36.5 MB/s eta 0:00:01\r\u001b[K     |████████████████████████████████| 87 kB 6.6 MB/s \n",
            "\u001b[?25hRequirement already satisfied: pandas>=0.24.2 in /usr/local/lib/python3.7/dist-packages (from tpot) (1.1.5)\n",
            "Requirement already satisfied: scipy>=1.3.1 in /usr/local/lib/python3.7/dist-packages (from tpot) (1.4.1)\n",
            "Requirement already satisfied: tqdm>=4.36.1 in /usr/local/lib/python3.7/dist-packages (from tpot) (4.62.3)\n",
            "Requirement already satisfied: joblib>=0.13.2 in /usr/local/lib/python3.7/dist-packages (from tpot) (1.0.1)\n",
            "Requirement already satisfied: scikit-learn>=0.22.0 in /usr/local/lib/python3.7/dist-packages (from tpot) (0.22.2.post1)\n",
            "Collecting update-checker>=0.16\n",
            "  Downloading update_checker-0.18.0-py3-none-any.whl (7.0 kB)\n",
            "Collecting deap>=1.2\n",
            "  Downloading deap-1.3.1-cp37-cp37m-manylinux_2_5_x86_64.manylinux1_x86_64.manylinux_2_12_x86_64.manylinux2010_x86_64.whl (160 kB)\n",
            "\u001b[K     |████████████████████████████████| 160 kB 69.2 MB/s \n",
            "\u001b[?25hCollecting stopit>=1.1.1\n",
            "  Downloading stopit-1.1.2.tar.gz (18 kB)\n",
            "Collecting xgboost>=1.1.0\n",
            "  Downloading xgboost-1.5.0-py3-none-manylinux2014_x86_64.whl (173.5 MB)\n",
            "\u001b[K     |████████████████████████████████| 173.5 MB 70 kB/s \n",
            "\u001b[?25hRequirement already satisfied: numpy>=1.16.3 in /usr/local/lib/python3.7/dist-packages (from tpot) (1.19.5)\n",
            "Requirement already satisfied: python-dateutil>=2.7.3 in /usr/local/lib/python3.7/dist-packages (from pandas>=0.24.2->tpot) (2.8.2)\n",
            "Requirement already satisfied: pytz>=2017.2 in /usr/local/lib/python3.7/dist-packages (from pandas>=0.24.2->tpot) (2018.9)\n",
            "Requirement already satisfied: six>=1.5 in /usr/local/lib/python3.7/dist-packages (from python-dateutil>=2.7.3->pandas>=0.24.2->tpot) (1.15.0)\n",
            "Requirement already satisfied: requests>=2.3.0 in /usr/local/lib/python3.7/dist-packages (from update-checker>=0.16->tpot) (2.23.0)\n",
            "Requirement already satisfied: idna<3,>=2.5 in /usr/local/lib/python3.7/dist-packages (from requests>=2.3.0->update-checker>=0.16->tpot) (2.10)\n",
            "Requirement already satisfied: urllib3!=1.25.0,!=1.25.1,<1.26,>=1.21.1 in /usr/local/lib/python3.7/dist-packages (from requests>=2.3.0->update-checker>=0.16->tpot) (1.24.3)\n",
            "Requirement already satisfied: chardet<4,>=3.0.2 in /usr/local/lib/python3.7/dist-packages (from requests>=2.3.0->update-checker>=0.16->tpot) (3.0.4)\n",
            "Requirement already satisfied: certifi>=2017.4.17 in /usr/local/lib/python3.7/dist-packages (from requests>=2.3.0->update-checker>=0.16->tpot) (2021.5.30)\n",
            "Building wheels for collected packages: stopit\n",
            "  Building wheel for stopit (setup.py) ... \u001b[?25l\u001b[?25hdone\n",
            "  Created wheel for stopit: filename=stopit-1.1.2-py3-none-any.whl size=11952 sha256=18a08c0a41f838578bae806081962ba20d12a11a1bfae0f288a748dcbff32e77\n",
            "  Stored in directory: /root/.cache/pip/wheels/e2/d2/79/eaf81edb391e27c87f51b8ef901ecc85a5363dc96b8b8d71e3\n",
            "Successfully built stopit\n",
            "Installing collected packages: xgboost, update-checker, stopit, deap, tpot\n",
            "  Attempting uninstall: xgboost\n",
            "    Found existing installation: xgboost 0.90\n",
            "    Uninstalling xgboost-0.90:\n",
            "      Successfully uninstalled xgboost-0.90\n",
            "Successfully installed deap-1.3.1 stopit-1.1.2 tpot-0.11.7 update-checker-0.18.0 xgboost-1.5.0\n"
          ]
        }
      ]
    },
    {
      "cell_type": "code",
      "metadata": {
        "colab": {
          "base_uri": "https://localhost:8080/"
        },
        "id": "lyxvM3dQhrWv",
        "outputId": "6bf024f9-1875-4aff-cda5-977a07416946"
      },
      "source": [
        "from google.colab import drive\n",
        "drive.mount('/content/drive')"
      ],
      "execution_count": null,
      "outputs": [
        {
          "output_type": "stream",
          "name": "stdout",
          "text": [
            "Mounted at /content/drive\n"
          ]
        }
      ]
    },
    {
      "cell_type": "code",
      "metadata": {
        "id": "DUUs7abNhs2b"
      },
      "source": [
        "import numpy as np\n",
        "import pandas as pd\n",
        "import matplotlib.pyplot as plt\n",
        "import seaborn as sns\n",
        "from sklearn.model_selection import cross_val_score\n",
        "import math\n",
        "\n",
        "from sklearn.naive_bayes import GaussianNB\n",
        "from sklearn.linear_model import LogisticRegression\n",
        "from sklearn.neighbors import KNeighborsClassifier\n",
        "from sklearn.svm import SVC\n",
        "from sklearn.tree import DecisionTreeClassifier\n",
        "from sklearn.discriminant_analysis import LinearDiscriminantAnalysis\n",
        "from sklearn.ensemble import RandomForestClassifier, AdaBoostClassifier, BaggingClassifier\n",
        "from sklearn.neural_network import MLPClassifier\n",
        "from sklearn.ensemble import GradientBoostingClassifier\n",
        "import xgboost as xgb\n",
        "from sklearn.metrics import accuracy_score\n",
        "from sklearn.model_selection import StratifiedKFold\n",
        "\n",
        "train_df = pd.read_csv(\"drive/MyDrive/VERİ/train.csv\")\n",
        "test_df=pd.read_csv(\"drive/MyDrive/VERİ/test.csv\")\n",
        "gender_sur=pd.read_csv(\"drive/MyDrive/VERİ/gender_submission.csv\")\n",
        "\n",
        "frames = [test_df, gender_sur]\n",
        "test_df = pd.concat(frames, axis=1)\n",
        "\n",
        "train_df = train_df.drop(['PassengerId', 'Cabin', 'Ticket'], axis=1)\n",
        "test_df=test_df.drop(['PassengerId', 'Cabin', 'Ticket'], axis=1)\n",
        "\n",
        "train_df['Title'] = train_df.Name.str.extract(' ([A-Za-z]+)\\.', expand=False)\n",
        "test_df['Title'] = test_df.Name.str.extract(' ([A-Za-z]+)\\.', expand=False)\n",
        "\n",
        "pd.crosstab(train_df['Title'], train_df['Sex'])\n",
        "\n",
        "train_df['Title'] = train_df['Title'].replace(['Lady', 'Countess','Capt', 'Col',\\\n",
        " \t'Don', 'Dr', 'Major', 'Rev', 'Sir', 'Jonkheer', 'Dona'], 'Rare')\n",
        "train_df['Title'] = train_df['Title'].replace('Mlle', 'Miss')\n",
        "train_df['Title'] = train_df['Title'].replace('Ms', 'Miss')\n",
        "train_df['Title'] = train_df['Title'].replace('Mme', 'Mrs')\n",
        "\n",
        "test_df['Title'] = test_df['Title'].replace(['Lady', 'Countess','Capt', 'Col',\\\n",
        " \t'Don', 'Dr', 'Major', 'Rev', 'Sir', 'Jonkheer', 'Dona'], 'Rare')\n",
        "test_df['Title'] = test_df['Title'].replace('Mlle', 'Miss')\n",
        "test_df['Title'] = test_df['Title'].replace('Ms', 'Miss')\n",
        "test_df['Title'] = test_df['Title'].replace('Mme', 'Mrs')\n",
        "\n",
        "title_mapping = {\"Mr\": 1, \"Miss\": 2, \"Mrs\": 3, \"Master\": 4, \"Rare\": 5}\n",
        "train_df['Title'] = train_df['Title'].map(title_mapping)\n",
        "train_df['Title'] = train_df['Title'].fillna(0)\n",
        "\n",
        "test_df['Title'] = test_df['Title'].map(title_mapping)\n",
        "test_df['Title'] = test_df['Title'].fillna(0)\n",
        "\n",
        "train_df = train_df.drop(['Name'], axis=1)\n",
        "test_df = test_df.drop(['Name'], axis=1)\n",
        "\n",
        "train_df['Sex'] = train_df['Sex'].map( {'female': 1, 'male': 0} ).astype(int)\n",
        "test_df['Sex'] = test_df['Sex'].map( {'female': 1, 'male': 0} ).astype(int)\n",
        "\n",
        "train_df.dropna(inplace=True)\n",
        "test_df.dropna(inplace=True)\n",
        "\n",
        "train_df['Age']=train_df['Age'].astype(int)\n",
        "test_df['Age']=test_df['Age'].astype(int)\n",
        "\n",
        "train_df['AgeBand'] = pd.cut(train_df['Age'], 5)\n",
        "train_df[['AgeBand', 'Survived']].groupby(['AgeBand'], as_index=False).mean().sort_values(by='AgeBand', ascending=True)\n",
        "\n",
        "combine= [train_df, test_df]\n",
        "for dataset in combine:\n",
        "    dataset.loc[dataset['Age'] <= 16, 'Age'] = 0\n",
        "    dataset.loc[(dataset['Age'] > 16) & (dataset['Age'] <= 32), 'Age'] = 1\n",
        "    dataset.loc[(dataset['Age'] > 32) & (dataset['Age'] <= 48), 'Age'] = 2\n",
        "    dataset.loc[(dataset['Age'] > 48) & (dataset['Age'] <= 64), 'Age'] = 3\n",
        "    dataset.loc[dataset['Age'] > 64, 'Age']=4\n",
        "\n",
        "train_df = train_df.drop(['AgeBand'], axis=1)\n",
        "combine = [train_df, test_df]\n",
        "\n",
        "for dataset in combine:\n",
        "    dataset['FamilySize'] = dataset['SibSp'] + dataset['Parch'] + 1\n",
        "\n",
        "for dataset in combine:\n",
        "    dataset['IsAlone'] = 0\n",
        "    dataset.loc[dataset['FamilySize'] == 1, 'IsAlone'] = 1\n",
        "\n",
        "train_df = train_df.drop(['Parch', 'SibSp', 'FamilySize'], axis=1)\n",
        "test_df = test_df.drop(['Parch', 'SibSp', 'FamilySize'], axis=1)\n",
        "combine = [train_df, test_df]\n",
        "\n",
        "for dataset in combine:\n",
        "    dataset['Embarked'] = dataset['Embarked'].map( {'S': 0, 'C': 1, 'Q': 2} ).astype(int)\n",
        "\n",
        "train_df['FareBand'] = pd.qcut(train_df['Fare'], 4)\n",
        "\n",
        "for dataset in combine:\n",
        "    dataset['Age*Class'] = dataset.Age * dataset.Pclass\n",
        "\n",
        "for dataset in combine:\n",
        "    dataset.loc[ dataset['Fare'] <=8.05, 'Fare'] = 0\n",
        "    dataset.loc[(dataset['Fare'] > 8.05) & (dataset['Fare'] <= 15.646), 'Fare'] = 1\n",
        "    dataset.loc[(dataset['Fare'] > 15.646) & (dataset['Fare'] <=  33.0), 'Fare']   = 2\n",
        "    dataset.loc[ dataset['Fare'] > 33.0, 'Fare'] = 3\n",
        "    dataset['Fare'] = dataset['Fare'].astype(int)\n",
        "\n",
        "train_df = train_df.drop(['FareBand'], axis=1)\n",
        "combine = [train_df, test_df]\n",
        "\n",
        "X_train = train_df.drop(\"Survived\", axis=1)\n",
        "Y_train = train_df[\"Survived\"]\n",
        "X_test  = test_df.drop(\"Survived\", axis=1)\n",
        "Y_test  = test_df[\"Survived\"]"
      ],
      "execution_count": null,
      "outputs": []
    },
    {
      "cell_type": "code",
      "metadata": {
        "colab": {
          "base_uri": "https://localhost:8080/"
        },
        "id": "ps7qEk55huWo",
        "outputId": "57e9c463-799b-4349-a94f-4474ed397e6d"
      },
      "source": [
        "models = []\n",
        "models.append(('Logistic Regression', LogisticRegression(random_state=0)))\n",
        "models.append(('Naive Bayes', GaussianNB()))\n",
        "models.append(('Decision Tree (CART)',DecisionTreeClassifier(random_state=0)))\n",
        "models.append(('K-NN', KNeighborsClassifier()))\n",
        "models.append(('SVM', SVC(random_state=0)))\n",
        "models.append(('Gradient Boosting Classifier', GradientBoostingClassifier(random_state=0)))\n",
        "models.append(('AdaBoostClassifier', AdaBoostClassifier(random_state=0)))\n",
        "models.append(('BaggingClassifier', BaggingClassifier(random_state=0)))\n",
        "models.append(('RandomForestClassifier', RandomForestClassifier(random_state=0)))\n",
        "models.append((\"XGBootsClassifier\",xgb.XGBClassifier(random_state=0,eval_metric='mlogloss',use_label_encoder =False)))\n",
        "\n",
        "\n",
        "from sklearn.metrics import accuracy_score\n",
        "\n",
        "for name, model in models:\n",
        "    model = model.fit(X_train, Y_train)\n",
        "    y_pred = model.predict(X_test)\n",
        "    y_true = Y_test\n",
        "    y_pred_train= model.predict(X_train)\n",
        "    y_true_train=Y_train\n",
        "\n",
        "    print(\"%s -> TEST ACC: %%%.2f     TRAİN ACC: %%%.2f\" % (name,accuracy_score(y_true, y_pred)*100,accuracy_score(y_pred_train,y_true_train)*100))"
      ],
      "execution_count": null,
      "outputs": [
        {
          "output_type": "stream",
          "name": "stdout",
          "text": [
            "Logistic Regression -> TEST ACC: %93.05     TRAİN ACC: %80.06\n",
            "Naive Bayes -> TEST ACC: %81.27     TRAİN ACC: %76.26\n",
            "Decision Tree (CART) -> TEST ACC: %83.08     TRAİN ACC: %87.36\n",
            "K-NN -> TEST ACC: %82.18     TRAİN ACC: %85.11\n",
            "SVM -> TEST ACC: %92.45     TRAİN ACC: %81.74\n",
            "Gradient Boosting Classifier -> TEST ACC: %79.15     TRAİN ACC: %85.53\n",
            "AdaBoostClassifier -> TEST ACC: %85.80     TRAİN ACC: %80.62\n",
            "BaggingClassifier -> TEST ACC: %82.48     TRAİN ACC: %87.36\n",
            "RandomForestClassifier -> TEST ACC: %83.38     TRAİN ACC: %87.36\n",
            "XGBootsClassifier -> TEST ACC: %82.78     TRAİN ACC: %87.22\n"
          ]
        }
      ]
    },
    {
      "cell_type": "code",
      "metadata": {
        "id": "kwjPkriohzNE"
      },
      "source": [
        "from hyperopt import hp, fmin, tpe, STATUS_OK, Trials\n",
        "\n",
        "#hyperopt:Bir hiperparametre değer uzayında arama yapan güçlü bir python kitaplığıdır.\n",
        "#Maliyet işlevini en aza indirmek için üç işlevi yerine getirir\n",
        "\n",
        "\n",
        "search_space = hp.choice('classifier_type', [\n",
        "    {\n",
        "        'type': 'svm',\n",
        "        \"kernel\": hp.choice(\"kernel\",[\"linear\",\"poly\",\"rbf\",\"sigmoid\"]),\n",
        "        'gamma': hp.choice(\"gamma1\",[\"scale\",\"auto\"]+[math.pow(10,i) for i in range(-5,0,1)]),\n",
        "        \"C\":hp.choice(\"C\",np.arange(0.001,50,0.010)),\n",
        "        \"shrinking\":hp.choice(\"shrinking\",[True,False]),\n",
        "        \"probability\":hp.choice(\"probability\",[True,False]),\n",
        "        \"tol\":hp.choice(\"tol\",[math.pow(10,i) for i in range(-5,0,1)]),\n",
        "        \"decision_function_shape\":hp.choice(\"decision_function_shape\",[\"ovo\",\"ovr\"]),\n",
        "        \"random_state\":hp.choice(\"random_state1\",[*range(1,102,1)])\n",
        "    },\n",
        "    {\n",
        "        'type': 'rf',\n",
        "        'criterion': hp.choice('criterion', ['entropy','gini']), #best practice values -DK 15.09.2021\n",
        "        'max_features': hp.choice('max_features', [0.1,0.2,0.3,0.4,0.5,0.6,0.7,0.8,0.9,1,'auto', 'sqrt','log2',None]), #best practice values -DK 15.09.2021\n",
        "        'n_estimators' : hp.choice('n_estimators1', [*range(10,1010,10)]), #best practice values -DK 15.09.2021\n",
        "        'bootstrap': hp.choice('bootsrap',[True,False]), #best practice values -DK 15.09.2021\n",
        "        'class_weight': hp.choice('class_weight',[\"balanced\",\"balanced_subsample\",None]), #best practice values -DK 15.09.2021\n",
        "        \"min_samples_leaf\":hp.choice(\"min_samples_leaf\",[*range(1,21,1)]), #best practice values -DK 15.09.2021\n",
        "        \"min_samples_split\":hp.choice(\"min_samples_split\",[*range(2,21,1)]), #best practice values -DK 15.09.2021\n",
        "        \"max_depth\":hp.choice(\"max_depth1\",[*range(5,55,5)]+[None]), #best practice values -DK 15.09.2021\n",
        "        \"random_state\":hp.choice(\"random_state2\",[*range(1,102,1)]) #best practice values -DK 15.09.2021\n",
        "    },\n",
        "    {\n",
        "        'type': 'xgb',\n",
        "        'booster': hp.choice('booster', ['gbtree','dart']), #best practice values -DK 22.09.2021\n",
        "        'colsample_bytree': hp.choice('colsample_bytree', np.arange(0, 1,0.1)), #best practice values -DK 22.09.2021\n",
        "        'gamma' :hp.choice('gamma2',np.arange(0,5,0.1)), #best practice values -DK 22.09.2021\n",
        "        'learning_rate': hp.choice('learning_rate',np.arange(0.001,1,0.001)), #best practice values -DK 22.09.2021\n",
        "        \"max_depth\":hp.choice(\"max_depth2\",[*range(5,115,5)]+[1]), #best practice values -DK 22.09.2021\n",
        "        \"min_child_weight\":hp.choice(\"min_child_weight\",[*range(0,21,1)]), #best practice values -DK 22.09.2021\n",
        "        'n_estimators' : hp.choice('n_estimators2', [*range(10,1010,10)]), #best practice values -DK 22.09.2021\n",
        "        'objective': hp.choice('objective',[\"binary:logistic\",\"binary:logitraw\",\"binary:hinge\"]), #best practice values -DK 22.09.2021\n",
        "        \"random_state\":hp.choice('random_state3', [*range(0,102,1)]), #best practice values -DK 22.09.2021\n",
        "        \"reg_alpha\":hp.choice('reg_alpha', [*range(0,16,1)]), #best practice values -DK 22.09.2021\n",
        "        \"reg_lambda\":hp.choice('reg_lambda',[*range(0,16,1)]), #best practice values -DK 22.09.2021\n",
        "        \"eval_metric\":hp.choice(\"eval_metric\",[\"rmse\",\"mape\",\"rmsle\",\"mae\",\"mphe\",\"logloss\",\"error\",\"error@0.5\",\"merror\",\"mlogloss\",\"auc\",\"aucpr\",\"ndcg\",\"map\",\"ndcg@0.5\",\"map@0.5\",\"ndcg-\",\"map-\",\"ndcg@0.5-\",\"map@0.5-\",\"poisson-nloglik\",\"gamma-nloglik\",\"cox-nloglik\",\"gamma-deviance\",\"aft-nloglik\",\"interval-regression-accuracy\"]),\n",
        "        \"use_label_encoder\":hp.choice(\"use_label_encoder\",[False])\n",
        "    },\n",
        "])"
      ],
      "execution_count": null,
      "outputs": []
    },
    {
      "cell_type": "code",
      "metadata": {
        "colab": {
          "base_uri": "https://localhost:8080/"
        },
        "id": "ZLEF6OiFjuD1",
        "outputId": "00c8a13d-deeb-484b-8d81-c06e5351321d"
      },
      "source": [
        "!pip install mlflow"
      ],
      "execution_count": null,
      "outputs": [
        {
          "output_type": "stream",
          "name": "stdout",
          "text": [
            "Requirement already satisfied: mlflow in /usr/local/lib/python3.7/dist-packages (1.21.0)\n",
            "Requirement already satisfied: numpy in /usr/local/lib/python3.7/dist-packages (from mlflow) (1.19.5)\n",
            "Requirement already satisfied: docker>=4.0.0 in /usr/local/lib/python3.7/dist-packages (from mlflow) (5.0.3)\n",
            "Requirement already satisfied: cloudpickle in /usr/local/lib/python3.7/dist-packages (from mlflow) (1.3.0)\n",
            "Requirement already satisfied: entrypoints in /usr/local/lib/python3.7/dist-packages (from mlflow) (0.3)\n",
            "Requirement already satisfied: databricks-cli>=0.8.7 in /usr/local/lib/python3.7/dist-packages (from mlflow) (0.16.2)\n",
            "Requirement already satisfied: sqlalchemy in /usr/local/lib/python3.7/dist-packages (from mlflow) (1.4.25)\n",
            "Requirement already satisfied: Flask in /usr/local/lib/python3.7/dist-packages (from mlflow) (1.1.4)\n",
            "Requirement already satisfied: gitpython>=2.1.0 in /usr/local/lib/python3.7/dist-packages (from mlflow) (3.1.24)\n",
            "Requirement already satisfied: protobuf>=3.7.0 in /usr/local/lib/python3.7/dist-packages (from mlflow) (3.17.3)\n",
            "Requirement already satisfied: sqlparse>=0.3.1 in /usr/local/lib/python3.7/dist-packages (from mlflow) (0.4.2)\n",
            "Requirement already satisfied: pytz in /usr/local/lib/python3.7/dist-packages (from mlflow) (2018.9)\n",
            "Requirement already satisfied: alembic<=1.4.1 in /usr/local/lib/python3.7/dist-packages (from mlflow) (1.4.1)\n",
            "Requirement already satisfied: pandas in /usr/local/lib/python3.7/dist-packages (from mlflow) (1.1.5)\n",
            "Requirement already satisfied: prometheus-flask-exporter in /usr/local/lib/python3.7/dist-packages (from mlflow) (0.18.4)\n",
            "Requirement already satisfied: packaging in /usr/local/lib/python3.7/dist-packages (from mlflow) (21.0)\n",
            "Requirement already satisfied: click>=7.0 in /usr/local/lib/python3.7/dist-packages (from mlflow) (7.1.2)\n",
            "Requirement already satisfied: importlib-metadata!=4.7.0,>=3.7.0 in /usr/local/lib/python3.7/dist-packages (from mlflow) (4.8.1)\n",
            "Requirement already satisfied: pyyaml>=5.1 in /usr/local/lib/python3.7/dist-packages (from mlflow) (6.0)\n",
            "Requirement already satisfied: gunicorn in /usr/local/lib/python3.7/dist-packages (from mlflow) (20.1.0)\n",
            "Requirement already satisfied: querystring-parser in /usr/local/lib/python3.7/dist-packages (from mlflow) (1.2.4)\n",
            "Requirement already satisfied: requests>=2.17.3 in /usr/local/lib/python3.7/dist-packages (from mlflow) (2.23.0)\n",
            "Requirement already satisfied: python-dateutil in /usr/local/lib/python3.7/dist-packages (from alembic<=1.4.1->mlflow) (2.8.2)\n",
            "Requirement already satisfied: Mako in /usr/local/lib/python3.7/dist-packages (from alembic<=1.4.1->mlflow) (1.1.5)\n",
            "Requirement already satisfied: python-editor>=0.3 in /usr/local/lib/python3.7/dist-packages (from alembic<=1.4.1->mlflow) (1.0.4)\n",
            "Requirement already satisfied: six>=1.10.0 in /usr/local/lib/python3.7/dist-packages (from databricks-cli>=0.8.7->mlflow) (1.15.0)\n",
            "Requirement already satisfied: tabulate>=0.7.7 in /usr/local/lib/python3.7/dist-packages (from databricks-cli>=0.8.7->mlflow) (0.8.9)\n",
            "Requirement already satisfied: websocket-client>=0.32.0 in /usr/local/lib/python3.7/dist-packages (from docker>=4.0.0->mlflow) (1.2.1)\n",
            "Requirement already satisfied: typing-extensions>=3.7.4.3 in /usr/local/lib/python3.7/dist-packages (from gitpython>=2.1.0->mlflow) (3.7.4.3)\n",
            "Requirement already satisfied: gitdb<5,>=4.0.1 in /usr/local/lib/python3.7/dist-packages (from gitpython>=2.1.0->mlflow) (4.0.9)\n",
            "Requirement already satisfied: smmap<6,>=3.0.1 in /usr/local/lib/python3.7/dist-packages (from gitdb<5,>=4.0.1->gitpython>=2.1.0->mlflow) (5.0.0)\n",
            "Requirement already satisfied: zipp>=0.5 in /usr/local/lib/python3.7/dist-packages (from importlib-metadata!=4.7.0,>=3.7.0->mlflow) (3.6.0)\n",
            "Requirement already satisfied: idna<3,>=2.5 in /usr/local/lib/python3.7/dist-packages (from requests>=2.17.3->mlflow) (2.10)\n",
            "Requirement already satisfied: certifi>=2017.4.17 in /usr/local/lib/python3.7/dist-packages (from requests>=2.17.3->mlflow) (2021.5.30)\n",
            "Requirement already satisfied: urllib3!=1.25.0,!=1.25.1,<1.26,>=1.21.1 in /usr/local/lib/python3.7/dist-packages (from requests>=2.17.3->mlflow) (1.24.3)\n",
            "Requirement already satisfied: chardet<4,>=3.0.2 in /usr/local/lib/python3.7/dist-packages (from requests>=2.17.3->mlflow) (3.0.4)\n",
            "Requirement already satisfied: greenlet!=0.4.17 in /usr/local/lib/python3.7/dist-packages (from sqlalchemy->mlflow) (1.1.2)\n",
            "Requirement already satisfied: itsdangerous<2.0,>=0.24 in /usr/local/lib/python3.7/dist-packages (from Flask->mlflow) (1.1.0)\n",
            "Requirement already satisfied: Werkzeug<2.0,>=0.15 in /usr/local/lib/python3.7/dist-packages (from Flask->mlflow) (1.0.1)\n",
            "Requirement already satisfied: Jinja2<3.0,>=2.10.1 in /usr/local/lib/python3.7/dist-packages (from Flask->mlflow) (2.11.3)\n",
            "Requirement already satisfied: MarkupSafe>=0.23 in /usr/local/lib/python3.7/dist-packages (from Jinja2<3.0,>=2.10.1->Flask->mlflow) (2.0.1)\n",
            "Requirement already satisfied: setuptools>=3.0 in /usr/local/lib/python3.7/dist-packages (from gunicorn->mlflow) (57.4.0)\n",
            "Requirement already satisfied: pyparsing>=2.0.2 in /usr/local/lib/python3.7/dist-packages (from packaging->mlflow) (2.4.7)\n",
            "Requirement already satisfied: prometheus-client in /usr/local/lib/python3.7/dist-packages (from prometheus-flask-exporter->mlflow) (0.11.0)\n"
          ]
        }
      ]
    },
    {
      "cell_type": "code",
      "metadata": {
        "id": "F6rcTGiCiisL"
      },
      "source": [
        "import mlflow"
      ],
      "execution_count": null,
      "outputs": []
    },
    {
      "cell_type": "code",
      "metadata": {
        "id": "l1juWY41h1NU"
      },
      "source": [
        "from sklearn.model_selection import cross_val_score\n",
        "\n",
        "def objective(params):\n",
        "    classifier_type = params['type']\n",
        "    del params['type']\n",
        "    if classifier_type == 'svm':\n",
        "        clf = SVC(**params)\n",
        "    elif classifier_type == 'rf':\n",
        "        clf = RandomForestClassifier(**params)\n",
        "    elif classifier_type == 'xgb':\n",
        "        clf = xgb.XGBClassifier(**params)\n",
        "    else:\n",
        "      return 0\n",
        "    cv = StratifiedKFold(n_splits=4,random_state=42,shuffle=True)\n",
        "    accuracy = cross_val_score(clf, X_train, Y_train, cv = cv).mean()\n",
        "\n",
        "    # Because fmin() tries to minimize the objective, this function must return the negative accuracy.\n",
        "    return {'loss': -accuracy, 'status': STATUS_OK}"
      ],
      "execution_count": null,
      "outputs": []
    },
    {
      "cell_type": "code",
      "metadata": {
        "colab": {
          "base_uri": "https://localhost:8080/"
        },
        "id": "DS3_eMZ8iolR",
        "outputId": "37aa055c-542e-4dc0-e24c-f3b6db2cf804"
      },
      "source": [
        "acc=[]\n",
        "for i in range(5):\n",
        "  with mlflow.start_run():\n",
        "    int_rand=np.random.randint(0,2**32-1)\n",
        "    rstate = np.random.RandomState(int_rand)\n",
        "    trials = Trials()\n",
        "    best=fmin(fn= objective,space=search_space,algo= tpe.suggest,max_evals =100,trials= trials,rstate=rstate)\n",
        "    model_dict=hyperopt.space_eval(search_space, best)\n",
        "    type=model_dict[\"type\"]\n",
        "    del model_dict[\"type\"]\n",
        "    acc.append((type,model_dict,int_rand))"
      ],
      "execution_count": null,
      "outputs": [
        {
          "output_type": "stream",
          "name": "stdout",
          "text": [
            "100%|██████████| 100/100 [07:44<00:00,  4.65s/it, best loss: -0.827247191011236]\n",
            "100%|██████████| 100/100 [05:56<00:00,  3.57s/it, best loss: -0.827247191011236]\n",
            "100%|██████████| 100/100 [08:36<00:00,  5.17s/it, best loss: -0.8286516853932585]\n",
            "100%|██████████| 100/100 [09:18<00:00,  5.58s/it, best loss: -0.8258426966292135]\n",
            "100%|██████████| 100/100 [05:43<00:00,  3.44s/it, best loss: -0.827247191011236]\n"
          ]
        }
      ]
    },
    {
      "cell_type": "code",
      "metadata": {
        "id": "myPkcyQ1tTEd"
      },
      "source": [
        "from sklearn.metrics import accuracy_score\n",
        "best_acc=[]\n",
        "\n",
        "for classifier_type,params,int_rand in acc:\n",
        "  if classifier_type== 'svm':\n",
        "    clf = SVC(**params)\n",
        "  elif classifier_type == 'rf':\n",
        "    clf = RandomForestClassifier(**params)\n",
        "  elif classifier_type == 'xgb':\n",
        "    clf = xgb.XGBClassifier(**params)\n",
        "  trainedforest = clf\n",
        "  trainedforest.fit(X_train,Y_train)\n",
        "  Y_pred = trainedforest.predict(X_test)\n",
        "  Y_true=Y_test\n",
        "  Y_pred_train= trainedforest.predict(X_train)\n",
        "  Y_true_train=Y_train\n",
        "  acc_random_forest =accuracy_score(Y_true, Y_pred)*100\n",
        "  acc_train_random=accuracy_score(Y_pred_train, Y_true_train)*100\n",
        "  best_acc.append((classifier_type,acc_random_forest,acc_train_random,trainedforest.get_params,int_rand))"
      ],
      "execution_count": null,
      "outputs": []
    },
    {
      "cell_type": "code",
      "metadata": {
        "colab": {
          "base_uri": "https://localhost:8080/"
        },
        "id": "xkEMLNwGtxiT",
        "outputId": "ab411b63-4054-4dbb-9935-8425b68c887c"
      },
      "source": [
        "for classifier_type,test_acc,train_acc,parameters,int_rand in best_acc:\n",
        "  print(\"CLASSİFİER TYPE\",classifier_type,\"\",\"TEST ACC: \",test_acc,\"\",\"TRAİN ACC: \",train_acc,\"\",\"PARAMS: \",parameters,\"\",\"INTEGER RAND: \",int_rand)"
      ],
      "execution_count": null,
      "outputs": [
        {
          "output_type": "stream",
          "name": "stdout",
          "text": [
            "CLASSİFİER TYPE rf  TEST ACC:  80.06042296072508  TRAİN ACC:  86.65730337078652  PARAMS:  <bound method BaseEstimator.get_params of RandomForestClassifier(bootstrap=True, ccp_alpha=0.0,\n",
            "                       class_weight='balanced_subsample', criterion='gini',\n",
            "                       max_depth=20, max_features='log2', max_leaf_nodes=None,\n",
            "                       max_samples=None, min_impurity_decrease=0.0,\n",
            "                       min_impurity_split=None, min_samples_leaf=1,\n",
            "                       min_samples_split=5, min_weight_fraction_leaf=0.0,\n",
            "                       n_estimators=450, n_jobs=None, oob_score=False,\n",
            "                       random_state=15, verbose=0, warm_start=False)>  INTEGER RAND:  1630613758\n",
            "CLASSİFİER TYPE svm  TEST ACC:  81.2688821752266  TRAİN ACC:  86.65730337078652  PARAMS:  <bound method BaseEstimator.get_params of SVC(C=42.54099999999999, break_ties=False, cache_size=200, class_weight=None,\n",
            "    coef0=0.0, decision_function_shape='ovo', degree=3, gamma=0.1, kernel='rbf',\n",
            "    max_iter=-1, probability=True, random_state=55, shrinking=False, tol=0.01,\n",
            "    verbose=False)>  INTEGER RAND:  700344759\n",
            "CLASSİFİER TYPE svm  TEST ACC:  82.17522658610272  TRAİN ACC:  85.67415730337079  PARAMS:  <bound method BaseEstimator.get_params of SVC(C=11.170999999999998, break_ties=False, cache_size=200, class_weight=None,\n",
            "    coef0=0.0, decision_function_shape='ovr', degree=3, gamma='auto',\n",
            "    kernel='rbf', max_iter=-1, probability=False, random_state=61,\n",
            "    shrinking=False, tol=0.0001, verbose=False)>  INTEGER RAND:  3708193408\n",
            "CLASSİFİER TYPE rf  TEST ACC:  78.85196374622356  TRAİN ACC:  86.09550561797754  PARAMS:  <bound method BaseEstimator.get_params of RandomForestClassifier(bootstrap=False, ccp_alpha=0.0, class_weight='balanced',\n",
            "                       criterion='entropy', max_depth=50, max_features='log2',\n",
            "                       max_leaf_nodes=None, max_samples=None,\n",
            "                       min_impurity_decrease=0.0, min_impurity_split=None,\n",
            "                       min_samples_leaf=3, min_samples_split=5,\n",
            "                       min_weight_fraction_leaf=0.0, n_estimators=150,\n",
            "                       n_jobs=None, oob_score=False, random_state=77, verbose=0,\n",
            "                       warm_start=False)>  INTEGER RAND:  1953701175\n",
            "CLASSİFİER TYPE svm  TEST ACC:  82.17522658610272  TRAİN ACC:  85.81460674157303  PARAMS:  <bound method BaseEstimator.get_params of SVC(C=11.950999999999997, break_ties=False, cache_size=200, class_weight=None,\n",
            "    coef0=0.0, decision_function_shape='ovr', degree=3, gamma='auto',\n",
            "    kernel='rbf', max_iter=-1, probability=True, random_state=8,\n",
            "    shrinking=False, tol=0.1, verbose=False)>  INTEGER RAND:  3504739865\n"
          ]
        }
      ]
    }
  ]
}