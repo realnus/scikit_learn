{
  "nbformat": 4,
  "nbformat_minor": 0,
  "metadata": {
    "colab": {
      "provenance": [],
      "include_colab_link": true
    },
    "kernelspec": {
      "name": "python3",
      "display_name": "Python 3"
    },
    "language_info": {
      "name": "python"
    }
  },
  "cells": [
    {
      "cell_type": "markdown",
      "metadata": {
        "id": "view-in-github",
        "colab_type": "text"
      },
      "source": [
        "<a href=\"https://colab.research.google.com/github/realnus/scikit_learn/blob/main/HyperParameter_BOHB_RandomForest.ipynb\" target=\"_parent\"><img src=\"https://colab.research.google.com/assets/colab-badge.svg\" alt=\"Open In Colab\"/></a>"
      ]
    },
    {
      "cell_type": "code",
      "metadata": {
        "colab": {
          "base_uri": "https://localhost:8080/"
        },
        "id": "DFxefvL1g96Q",
        "outputId": "c6933a6b-dc30-451f-c0c9-cbeab1e02f40"
      },
      "source": [
        "!pip install bohb-hpo"
      ],
      "execution_count": null,
      "outputs": [
        {
          "output_type": "stream",
          "name": "stdout",
          "text": [
            "Collecting bohb-hpo\n",
            "  Downloading BOHB_HPO-0.5.2.tar.gz (6.0 kB)\n",
            "Requirement already satisfied: numpy in /usr/local/lib/python3.7/dist-packages (from bohb-hpo) (1.19.5)\n",
            "Requirement already satisfied: scipy in /usr/local/lib/python3.7/dist-packages (from bohb-hpo) (1.4.1)\n",
            "Requirement already satisfied: dask in /usr/local/lib/python3.7/dist-packages (from bohb-hpo) (2.12.0)\n",
            "Requirement already satisfied: statsmodels in /usr/local/lib/python3.7/dist-packages (from bohb-hpo) (0.10.2)\n",
            "Requirement already satisfied: pandas>=0.19 in /usr/local/lib/python3.7/dist-packages (from statsmodels->bohb-hpo) (1.1.5)\n",
            "Requirement already satisfied: patsy>=0.4.0 in /usr/local/lib/python3.7/dist-packages (from statsmodels->bohb-hpo) (0.5.2)\n",
            "Requirement already satisfied: python-dateutil>=2.7.3 in /usr/local/lib/python3.7/dist-packages (from pandas>=0.19->statsmodels->bohb-hpo) (2.8.2)\n",
            "Requirement already satisfied: pytz>=2017.2 in /usr/local/lib/python3.7/dist-packages (from pandas>=0.19->statsmodels->bohb-hpo) (2018.9)\n",
            "Requirement already satisfied: six in /usr/local/lib/python3.7/dist-packages (from patsy>=0.4.0->statsmodels->bohb-hpo) (1.15.0)\n",
            "Building wheels for collected packages: bohb-hpo\n",
            "  Building wheel for bohb-hpo (setup.py) ... \u001b[?25l\u001b[?25hdone\n",
            "  Created wheel for bohb-hpo: filename=BOHB_HPO-0.5.2-py3-none-any.whl size=6139 sha256=63d43b0a24db7b533c31e9197399874cbad0fbdd37ec3cbcf47b0616fc561e4a\n",
            "  Stored in directory: /root/.cache/pip/wheels/5b/f9/fc/d07128cc4254c8ff6b7be9c028abcb1239b5f70a5e53b72566\n",
            "Successfully built bohb-hpo\n",
            "Installing collected packages: bohb-hpo\n",
            "Successfully installed bohb-hpo-0.5.2\n"
          ]
        }
      ]
    },
    {
      "cell_type": "code",
      "metadata": {
        "colab": {
          "base_uri": "https://localhost:8080/"
        },
        "id": "HJWzM5KfhtbN",
        "outputId": "c7f6654f-dc0d-43e8-ee03-f6794e4e4b26"
      },
      "source": [
        "!pip install tpot"
      ],
      "execution_count": null,
      "outputs": [
        {
          "output_type": "stream",
          "name": "stdout",
          "text": [
            "Collecting tpot\n",
            "  Downloading TPOT-0.11.7-py3-none-any.whl (87 kB)\n",
            "\u001b[K     |████████████████████████████████| 87 kB 3.0 MB/s \n",
            "\u001b[?25hCollecting update-checker>=0.16\n",
            "  Downloading update_checker-0.18.0-py3-none-any.whl (7.0 kB)\n",
            "Requirement already satisfied: scipy>=1.3.1 in /usr/local/lib/python3.7/dist-packages (from tpot) (1.4.1)\n",
            "Requirement already satisfied: scikit-learn>=0.22.0 in /usr/local/lib/python3.7/dist-packages (from tpot) (0.22.2.post1)\n",
            "Collecting stopit>=1.1.1\n",
            "  Downloading stopit-1.1.2.tar.gz (18 kB)\n",
            "Requirement already satisfied: joblib>=0.13.2 in /usr/local/lib/python3.7/dist-packages (from tpot) (1.0.1)\n",
            "Requirement already satisfied: pandas>=0.24.2 in /usr/local/lib/python3.7/dist-packages (from tpot) (1.1.5)\n",
            "Collecting deap>=1.2\n",
            "  Downloading deap-1.3.1-cp37-cp37m-manylinux_2_5_x86_64.manylinux1_x86_64.manylinux_2_12_x86_64.manylinux2010_x86_64.whl (160 kB)\n",
            "\u001b[K     |████████████████████████████████| 160 kB 18.5 MB/s \n",
            "\u001b[?25hCollecting xgboost>=1.1.0\n",
            "  Downloading xgboost-1.4.2-py3-none-manylinux2010_x86_64.whl (166.7 MB)\n",
            "\u001b[K     |████████████████████████████████| 166.7 MB 13 kB/s \n",
            "\u001b[?25hRequirement already satisfied: numpy>=1.16.3 in /usr/local/lib/python3.7/dist-packages (from tpot) (1.19.5)\n",
            "Requirement already satisfied: tqdm>=4.36.1 in /usr/local/lib/python3.7/dist-packages (from tpot) (4.62.3)\n",
            "Requirement already satisfied: python-dateutil>=2.7.3 in /usr/local/lib/python3.7/dist-packages (from pandas>=0.24.2->tpot) (2.8.2)\n",
            "Requirement already satisfied: pytz>=2017.2 in /usr/local/lib/python3.7/dist-packages (from pandas>=0.24.2->tpot) (2018.9)\n",
            "Requirement already satisfied: six>=1.5 in /usr/local/lib/python3.7/dist-packages (from python-dateutil>=2.7.3->pandas>=0.24.2->tpot) (1.15.0)\n",
            "Requirement already satisfied: requests>=2.3.0 in /usr/local/lib/python3.7/dist-packages (from update-checker>=0.16->tpot) (2.23.0)\n",
            "Requirement already satisfied: chardet<4,>=3.0.2 in /usr/local/lib/python3.7/dist-packages (from requests>=2.3.0->update-checker>=0.16->tpot) (3.0.4)\n",
            "Requirement already satisfied: certifi>=2017.4.17 in /usr/local/lib/python3.7/dist-packages (from requests>=2.3.0->update-checker>=0.16->tpot) (2021.5.30)\n",
            "Requirement already satisfied: idna<3,>=2.5 in /usr/local/lib/python3.7/dist-packages (from requests>=2.3.0->update-checker>=0.16->tpot) (2.10)\n",
            "Requirement already satisfied: urllib3!=1.25.0,!=1.25.1,<1.26,>=1.21.1 in /usr/local/lib/python3.7/dist-packages (from requests>=2.3.0->update-checker>=0.16->tpot) (1.24.3)\n",
            "Building wheels for collected packages: stopit\n",
            "  Building wheel for stopit (setup.py) ... \u001b[?25l\u001b[?25hdone\n",
            "  Created wheel for stopit: filename=stopit-1.1.2-py3-none-any.whl size=11952 sha256=8719fc430eb1e4b4eb4bb5118b7a801d998e376c9b6f7287a8ea6c30960e1060\n",
            "  Stored in directory: /root/.cache/pip/wheels/e2/d2/79/eaf81edb391e27c87f51b8ef901ecc85a5363dc96b8b8d71e3\n",
            "Successfully built stopit\n",
            "Installing collected packages: xgboost, update-checker, stopit, deap, tpot\n",
            "  Attempting uninstall: xgboost\n",
            "    Found existing installation: xgboost 0.90\n",
            "    Uninstalling xgboost-0.90:\n",
            "      Successfully uninstalled xgboost-0.90\n",
            "Successfully installed deap-1.3.1 stopit-1.1.2 tpot-0.11.7 update-checker-0.18.0 xgboost-1.4.2\n"
          ]
        }
      ]
    },
    {
      "cell_type": "code",
      "metadata": {
        "id": "vhNwDo6Jhvck"
      },
      "source": [
        "import numpy as np\n",
        "import pandas as pd\n",
        "import matplotlib.pyplot as plt\n",
        "import seaborn as sns\n",
        "from sklearn.model_selection import cross_val_score\n",
        "\n",
        "from sklearn.naive_bayes import GaussianNB\n",
        "from sklearn.linear_model import LogisticRegression\n",
        "from sklearn.neighbors import KNeighborsClassifier\n",
        "from sklearn.svm import SVC\n",
        "from sklearn.tree import DecisionTreeClassifier\n",
        "from sklearn.discriminant_analysis import LinearDiscriminantAnalysis\n",
        "from sklearn.ensemble import RandomForestClassifier, AdaBoostClassifier, BaggingClassifier\n",
        "from sklearn.neural_network import MLPClassifier\n",
        "from sklearn.ensemble import GradientBoostingClassifier\n",
        "import xgboost as xgb\n",
        "from sklearn.metrics import accuracy_score\n",
        "from sklearn.model_selection import StratifiedKFold"
      ],
      "execution_count": null,
      "outputs": []
    },
    {
      "cell_type": "code",
      "metadata": {
        "colab": {
          "base_uri": "https://localhost:8080/"
        },
        "id": "BeaeGU6Zh9rb",
        "outputId": "866d9ec9-c976-4187-91c1-ac2d86e37d61"
      },
      "source": [
        "from google.colab import drive\n",
        "drive.mount('/content/drive')"
      ],
      "execution_count": null,
      "outputs": [
        {
          "output_type": "stream",
          "name": "stdout",
          "text": [
            "Mounted at /content/drive\n"
          ]
        }
      ]
    },
    {
      "cell_type": "code",
      "metadata": {
        "id": "9j-4AFb4h_T1"
      },
      "source": [
        "train_df = pd.read_csv(\"drive/MyDrive/VERİ/train.csv\")\n",
        "test_df=pd.read_csv(\"drive/MyDrive/VERİ/test.csv\")\n",
        "gender_sur=pd.read_csv(\"drive/MyDrive/VERİ/gender_submission.csv\")\n",
        "\n",
        "frames = [test_df, gender_sur]\n",
        "test_df = pd.concat(frames, axis=1)\n",
        "\n",
        "train_df = train_df.drop(['PassengerId', 'Cabin', 'Ticket'], axis=1)\n",
        "test_df=test_df.drop(['PassengerId', 'Cabin', 'Ticket'], axis=1)\n",
        "\n",
        "train_df['Title'] = train_df.Name.str.extract(' ([A-Za-z]+)\\.', expand=False)\n",
        "test_df['Title'] = test_df.Name.str.extract(' ([A-Za-z]+)\\.', expand=False)\n",
        "\n",
        "pd.crosstab(train_df['Title'], train_df['Sex'])\n",
        "\n",
        "train_df['Title'] = train_df['Title'].replace(['Lady', 'Countess','Capt', 'Col',\\\n",
        " \t'Don', 'Dr', 'Major', 'Rev', 'Sir', 'Jonkheer', 'Dona'], 'Rare')\n",
        "train_df['Title'] = train_df['Title'].replace('Mlle', 'Miss')\n",
        "train_df['Title'] = train_df['Title'].replace('Ms', 'Miss')\n",
        "train_df['Title'] = train_df['Title'].replace('Mme', 'Mrs')\n",
        "\n",
        "test_df['Title'] = test_df['Title'].replace(['Lady', 'Countess','Capt', 'Col',\\\n",
        " \t'Don', 'Dr', 'Major', 'Rev', 'Sir', 'Jonkheer', 'Dona'], 'Rare')\n",
        "test_df['Title'] = test_df['Title'].replace('Mlle', 'Miss')\n",
        "test_df['Title'] = test_df['Title'].replace('Ms', 'Miss')\n",
        "test_df['Title'] = test_df['Title'].replace('Mme', 'Mrs')\n",
        "\n",
        "title_mapping = {\"Mr\": 1, \"Miss\": 2, \"Mrs\": 3, \"Master\": 4, \"Rare\": 5}\n",
        "train_df['Title'] = train_df['Title'].map(title_mapping)\n",
        "train_df['Title'] = train_df['Title'].fillna(0)\n",
        "\n",
        "test_df['Title'] = test_df['Title'].map(title_mapping)\n",
        "test_df['Title'] = test_df['Title'].fillna(0)\n",
        "\n",
        "train_df = train_df.drop(['Name'], axis=1)\n",
        "test_df = test_df.drop(['Name'], axis=1)\n",
        "\n",
        "train_df['Sex'] = train_df['Sex'].map( {'female': 1, 'male': 0} ).astype(int)\n",
        "test_df['Sex'] = test_df['Sex'].map( {'female': 1, 'male': 0} ).astype(int)\n",
        "\n",
        "train_df.dropna(inplace=True)\n",
        "test_df.dropna(inplace=True)\n",
        "\n",
        "train_df['Age']=train_df['Age'].astype(int)\n",
        "test_df['Age']=test_df['Age'].astype(int)\n",
        "\n",
        "train_df['AgeBand'] = pd.cut(train_df['Age'], 5)\n",
        "train_df[['AgeBand', 'Survived']].groupby(['AgeBand'], as_index=False).mean().sort_values(by='AgeBand', ascending=True)\n",
        "\n",
        "combine= [train_df, test_df]\n",
        "for dataset in combine:\n",
        "    dataset.loc[dataset['Age'] <= 16, 'Age'] = 0\n",
        "    dataset.loc[(dataset['Age'] > 16) & (dataset['Age'] <= 32), 'Age'] = 1\n",
        "    dataset.loc[(dataset['Age'] > 32) & (dataset['Age'] <= 48), 'Age'] = 2\n",
        "    dataset.loc[(dataset['Age'] > 48) & (dataset['Age'] <= 64), 'Age'] = 3\n",
        "    dataset.loc[dataset['Age'] > 64, 'Age']=4\n",
        "\n",
        "train_df = train_df.drop(['AgeBand'], axis=1)\n",
        "combine = [train_df, test_df]\n",
        "\n",
        "for dataset in combine:\n",
        "    dataset['FamilySize'] = dataset['SibSp'] + dataset['Parch'] + 1\n",
        "\n",
        "for dataset in combine:\n",
        "    dataset['IsAlone'] = 0\n",
        "    dataset.loc[dataset['FamilySize'] == 1, 'IsAlone'] = 1\n",
        "\n",
        "train_df = train_df.drop(['Parch', 'SibSp', 'FamilySize'], axis=1)\n",
        "test_df = test_df.drop(['Parch', 'SibSp', 'FamilySize'], axis=1)\n",
        "combine = [train_df, test_df]\n",
        "\n",
        "for dataset in combine:\n",
        "    dataset['Embarked'] = dataset['Embarked'].map( {'S': 0, 'C': 1, 'Q': 2} ).astype(int)\n",
        "\n",
        "train_df['FareBand'] = pd.qcut(train_df['Fare'], 4)\n",
        "\n",
        "for dataset in combine:\n",
        "    dataset['Age*Class'] = dataset.Age * dataset.Pclass\n",
        "\n",
        "for dataset in combine:\n",
        "    dataset.loc[ dataset['Fare'] <=8.05, 'Fare'] = 0\n",
        "    dataset.loc[(dataset['Fare'] > 8.05) & (dataset['Fare'] <= 15.646), 'Fare'] = 1\n",
        "    dataset.loc[(dataset['Fare'] > 15.646) & (dataset['Fare'] <=  33.0), 'Fare']   = 2\n",
        "    dataset.loc[ dataset['Fare'] > 33.0, 'Fare'] = 3\n",
        "    dataset['Fare'] = dataset['Fare'].astype(int)\n",
        "\n",
        "train_df = train_df.drop(['FareBand'], axis=1)\n",
        "combine = [train_df, test_df]"
      ],
      "execution_count": null,
      "outputs": []
    },
    {
      "cell_type": "code",
      "metadata": {
        "id": "DrbZArhqiFx9"
      },
      "source": [
        "X_train = train_df.drop(\"Survived\", axis=1)\n",
        "Y_train = train_df[\"Survived\"]\n",
        "X_test  = test_df.drop(\"Survived\", axis=1)\n",
        "Y_test  = test_df[\"Survived\"]"
      ],
      "execution_count": null,
      "outputs": []
    },
    {
      "cell_type": "code",
      "metadata": {
        "colab": {
          "base_uri": "https://localhost:8080/"
        },
        "id": "f6w8Ui1riHXj",
        "outputId": "9c008c7b-5820-4241-821a-50f49e04ef4e"
      },
      "source": [
        "models = []\n",
        "models.append(('Logistic Regression', LogisticRegression(random_state=0)))\n",
        "models.append(('Naive Bayes', GaussianNB()))\n",
        "models.append(('Decision Tree (CART)',DecisionTreeClassifier(random_state=0)))\n",
        "models.append(('K-NN', KNeighborsClassifier()))\n",
        "models.append(('SVM', SVC(random_state=0)))\n",
        "models.append(('Gradient Boosting Classifier', GradientBoostingClassifier(random_state=0)))\n",
        "models.append(('AdaBoostClassifier', AdaBoostClassifier(random_state=0)))\n",
        "models.append(('BaggingClassifier', BaggingClassifier(random_state=0)))\n",
        "models.append(('RandomForestClassifier', RandomForestClassifier(random_state=0)))\n",
        "models.append((\"XGBootsClassifier\",xgb.XGBClassifier(random_state=0,eval_metric='mlogloss',use_label_encoder =False)))\n",
        "\n",
        "\n",
        "from sklearn.metrics import accuracy_score\n",
        "\n",
        "for name, model in models:\n",
        "    model = model.fit(X_train, Y_train)\n",
        "    y_pred = model.predict(X_test)\n",
        "    y_true = Y_test\n",
        "    y_pred_train= model.predict(X_train)\n",
        "    y_true_train=Y_train\n",
        "\n",
        "    print(\"%s -> TEST ACC: %%%.2f     TRAİN ACC: %%%.2f\" % (name,accuracy_score(y_true, y_pred)*100,accuracy_score(y_pred_train,y_true_train)*100))"
      ],
      "execution_count": null,
      "outputs": [
        {
          "output_type": "stream",
          "name": "stdout",
          "text": [
            "Logistic Regression -> TEST ACC: %93.05     TRAİN ACC: %80.06\n",
            "Naive Bayes -> TEST ACC: %81.27     TRAİN ACC: %76.26\n",
            "Decision Tree (CART) -> TEST ACC: %83.08     TRAİN ACC: %87.36\n",
            "K-NN -> TEST ACC: %82.18     TRAİN ACC: %85.11\n",
            "SVM -> TEST ACC: %92.45     TRAİN ACC: %81.74\n",
            "Gradient Boosting Classifier -> TEST ACC: %79.15     TRAİN ACC: %85.53\n",
            "AdaBoostClassifier -> TEST ACC: %85.80     TRAİN ACC: %80.62\n",
            "BaggingClassifier -> TEST ACC: %82.48     TRAİN ACC: %87.36\n",
            "RandomForestClassifier -> TEST ACC: %83.38     TRAİN ACC: %87.36\n",
            "XGBootsClassifier -> TEST ACC: %82.78     TRAİN ACC: %87.22\n"
          ]
        }
      ]
    },
    {
      "cell_type": "code",
      "metadata": {
        "id": "FJj5lJgUUqSi"
      },
      "source": [
        "def evaluate(params,budget):\n",
        "    model = RandomForestClassifier(**params)\n",
        "    cv = StratifiedKFold(n_splits=4,random_state=42,shuffle=True)\n",
        "    accuracy = cross_val_score(model, X_train, Y_train, cv = cv).mean()\n",
        "    return (1 - np.mean(accuracy))"
      ],
      "execution_count": null,
      "outputs": []
    },
    {
      "cell_type": "code",
      "metadata": {
        "id": "2A_LRtI6iNO5"
      },
      "source": [
        "import bohb.configspace as cs\n",
        "criterion = cs.CategoricalHyperparameter(\"criterion\", ['entropy', 'gini'])\n",
        "max_features = cs.CategoricalHyperparameter('max_features',[0.1,0.2,0.3,0.4,0.5,0.6,0.7,0.8,0.9,1,'auto', 'sqrt','log2'])\n",
        "n_estimators = cs.CategoricalHyperparameter(\"n_estimators\", [*range(10,1010,10)])\n",
        "bootstrap = cs.CategoricalHyperparameter(\"bootstrap\",[True,False])\n",
        "class_weight = cs.CategoricalHyperparameter(\"class_weight\", [\"balanced\",\"balanced_subsample\"])\n",
        "min_samples_leaf = cs.CategoricalHyperparameter(\"min_samples_leaf\", [*range(1,21,1)])\n",
        "min_samples_split = cs.CategoricalHyperparameter(\"min_samples_split\", [*range(2,21,1)])\n",
        "max_depth = cs.CategoricalHyperparameter(\"max_depth\", [*range(5,55,5)])\n",
        "random_state = cs.CategoricalHyperparameter(\"random_state\", [*range(1,102,1)])\n",
        "configspace=cs.ConfigurationSpace([criterion, max_features,n_estimators, bootstrap, class_weight, min_samples_leaf,min_samples_split,max_depth,random_state])\n"
      ],
      "execution_count": null,
      "outputs": []
    },
    {
      "cell_type": "code",
      "metadata": {
        "id": "KgCvRJzpoPR0"
      },
      "source": [
        "from bohb import BOHB\n",
        "\n",
        "acc=[]\n",
        "for i in range(3):\n",
        "  int_rand=np.random.randint(0,2**32-1)\n",
        "  opt = BOHB(configspace, evaluate, max_budget=100, min_budget=1,random_percent=int_rand)\n",
        "  logs = opt.optimize()\n",
        "  params={}\n",
        "  for i in logs.best['hyperparameter']:\n",
        "    params[str(i.name)]=i.value\n",
        "  acc.append((params,int_rand))\n",
        "\n",
        "\n",
        ""
      ],
      "execution_count": null,
      "outputs": []
    },
    {
      "cell_type": "code",
      "metadata": {
        "id": "L8nxVdq1oIfL"
      },
      "source": [
        "best_acc=[]\n",
        "for params,int_rand in acc:\n",
        "  trainedforest = RandomForestClassifier(**params)\n",
        "  trainedforest.fit(X_train,Y_train)\n",
        "  Y_pred = trainedforest.predict(X_test)\n",
        "  Y_true=Y_test\n",
        "  Y_pred_train= trainedforest.predict(X_train)\n",
        "  Y_true_train=Y_train\n",
        "  acc_random_forest =accuracy_score(Y_true, Y_pred)*100\n",
        "  acc_train_random=accuracy_score(Y_pred_train, Y_true_train)*100\n",
        "  best_acc.append((acc_random_forest,acc_train_random,trainedforest.get_params,int_rand))"
      ],
      "execution_count": null,
      "outputs": []
    },
    {
      "cell_type": "code",
      "metadata": {
        "colab": {
          "base_uri": "https://localhost:8080/"
        },
        "id": "Qudi-_08o9Fj",
        "outputId": "160ca1e5-0741-4b15-d609-7f2446224e94"
      },
      "source": [
        "for test_acc,train_acc,parameters,int_rand in best_acc:\n",
        "  print(\"TEST ACC: \",test_acc,\"\",\"TRAİN ACC: \",train_acc,\"\",\"PARAMS: \",parameters,\"\",\"INTEGER RAND: \",int_rand)"
      ],
      "execution_count": null,
      "outputs": [
        {
          "output_type": "stream",
          "name": "stdout",
          "text": [
            "TEST ACC:  80.96676737160121  TRAİN ACC:  86.37640449438202  PARAMS:  <bound method BaseEstimator.get_params of RandomForestClassifier(bootstrap=True, ccp_alpha=0.0, class_weight='balanced',\n",
            "                       criterion='entropy', max_depth=45, max_features=0.9,\n",
            "                       max_leaf_nodes=None, max_samples=None,\n",
            "                       min_impurity_decrease=0.0, min_impurity_split=None,\n",
            "                       min_samples_leaf=2, min_samples_split=3,\n",
            "                       min_weight_fraction_leaf=0.0, n_estimators=320,\n",
            "                       n_jobs=None, oob_score=False, random_state=38, verbose=0,\n",
            "                       warm_start=False)>  INTEGER RAND:  1572045871\n",
            "TEST ACC:  78.24773413897282  TRAİN ACC:  86.93820224719101  PARAMS:  <bound method BaseEstimator.get_params of RandomForestClassifier(bootstrap=False, ccp_alpha=0.0, class_weight='balanced',\n",
            "                       criterion='entropy', max_depth=25, max_features=0.7,\n",
            "                       max_leaf_nodes=None, max_samples=None,\n",
            "                       min_impurity_decrease=0.0, min_impurity_split=None,\n",
            "                       min_samples_leaf=1, min_samples_split=6,\n",
            "                       min_weight_fraction_leaf=0.0, n_estimators=150,\n",
            "                       n_jobs=None, oob_score=False, random_state=75, verbose=0,\n",
            "                       warm_start=False)>  INTEGER RAND:  479546859\n",
            "TEST ACC:  80.66465256797582  TRAİN ACC:  86.23595505617978  PARAMS:  <bound method BaseEstimator.get_params of RandomForestClassifier(bootstrap=False, ccp_alpha=0.0,\n",
            "                       class_weight='balanced_subsample', criterion='entropy',\n",
            "                       max_depth=50, max_features='log2', max_leaf_nodes=None,\n",
            "                       max_samples=None, min_impurity_decrease=0.0,\n",
            "                       min_impurity_split=None, min_samples_leaf=1,\n",
            "                       min_samples_split=16, min_weight_fraction_leaf=0.0,\n",
            "                       n_estimators=350, n_jobs=None, oob_score=False,\n",
            "                       random_state=65, verbose=0, warm_start=False)>  INTEGER RAND:  764301124\n"
          ]
        }
      ]
    }
  ]
}